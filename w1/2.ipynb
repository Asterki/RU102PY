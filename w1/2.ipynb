{
 "cells": [
  {
   "cell_type": "markdown",
   "metadata": {},
   "source": [
    "# Redis clients\n",
    "- Manages connections\n",
    "- Implement the Redis Protocol and API\n",
    "- Provide a usable language-specific API\n",
    "\n",
    "## Manage connections\n",
    "- Redis is a database server which uses TCP to connect to said server\n",
    "- The client may have clients to interact with those servers}\n",
    "\n",
    "## Implement the Redis Protocol\n",
    "RESP: **RE**dis **S**erialization **P**rotocol\n",
    "THey should be able to realize all of the API protocol that Redis provides\n",
    "\n",
    "## Provide a usable language-specific API\n",
    "For example, transform a hash into an object in the case of javascript, or dictionary in the case of python"
   ]
  },
  {
   "cell_type": "markdown",
   "metadata": {},
   "source": [
    "## Recommended clients:\n",
    "- Walrus (Most complete)\n",
    "- Redis Py (Oldest and fastest updated)\n",
    "- aloredis (Async code)"
   ]
  }
 ],
 "metadata": {
  "language_info": {
   "name": "python"
  }
 },
 "nbformat": 4,
 "nbformat_minor": 2
}
